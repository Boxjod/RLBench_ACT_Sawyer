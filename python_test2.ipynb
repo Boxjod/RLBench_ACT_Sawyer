{
 "cells": [
  {
   "cell_type": "markdown",
   "metadata": {},
   "source": [
    "nn.DataParallel()只能处理模型"
   ]
  },
  {
   "cell_type": "code",
   "execution_count": 9,
   "metadata": {},
   "outputs": [],
   "source": [
    "import torch\n",
    "import torch.nn as nn\n",
    "import torch.optim as optim\n",
    "from torch.utils.data import DataLoader, Dataset\n",
    "\n",
    "# 定义神经网络模型\n",
    "class MyModel(nn.Module):\n",
    "    def __init__(self):\n",
    "        super(MyModel, self).__init__()\n",
    "        # 定义你的模型结构\n",
    "        self.fc = nn.Linear(in_features=10, out_features=1)\n",
    "    \n",
    "    def forward(self, x):\n",
    "        # 定义前向传播逻辑\n",
    "        x = self.fc(x)\n",
    "        return x\n",
    "\n",
    "# 定义数据集\n",
    "class MyDataset(Dataset):\n",
    "    def __init__(self, data):\n",
    "        self.data = data\n",
    "    \n",
    "    def __len__(self):\n",
    "        return len(self.data)\n",
    "    \n",
    "    def __getitem__(self, index):\n",
    "        return self.data[index]\n",
    "\n",
    "# 假设有10张图片数据\n",
    "data = torch.randn(10, 10)  # 假设每张图片有10个特征\n",
    "\n",
    "# 创建数据集和数据加载器\n",
    "dataset = MyDataset(data)\n",
    "dataloader = DataLoader(dataset, batch_size=1, shuffle=False)\n",
    "\n",
    "# 初始化模型并放到GPU上\n",
    "model = MyModel().cuda()\n",
    "\n",
    "# 将模型在GPU上进行并行化\n",
    "model = nn.DataParallel(model)\n"
   ]
  },
  {
   "cell_type": "code",
   "execution_count": 12,
   "metadata": {},
   "outputs": [
    {
     "name": "stdout",
     "output_type": "stream",
     "text": [
      "1\n",
      "tensor([[0.3122]], device='cuda:0', grad_fn=<AddmmBackward0>)\n",
      "2\n",
      "tensor([[0.2484]], device='cuda:0', grad_fn=<AddmmBackward0>)\n",
      "3\n",
      "tensor([[0.3374]], device='cuda:0', grad_fn=<AddmmBackward0>)\n",
      "4\n",
      "tensor([[-0.1192]], device='cuda:0', grad_fn=<AddmmBackward0>)\n",
      "5\n",
      "tensor([[0.5996]], device='cuda:0', grad_fn=<AddmmBackward0>)\n",
      "6\n",
      "tensor([[0.2356]], device='cuda:0', grad_fn=<AddmmBackward0>)\n",
      "7\n",
      "tensor([[-0.1340]], device='cuda:0', grad_fn=<AddmmBackward0>)\n",
      "8\n",
      "tensor([[0.0684]], device='cuda:0', grad_fn=<AddmmBackward0>)\n",
      "9\n",
      "tensor([[-1.0539]], device='cuda:0', grad_fn=<AddmmBackward0>)\n",
      "10\n",
      "tensor([[-0.1103]], device='cuda:0', grad_fn=<AddmmBackward0>)\n"
     ]
    }
   ],
   "source": [
    "x = 0\n",
    "for batch in dataloader:\n",
    "  # 将数据移动到GPU上\n",
    "  inputs = batch.cuda()\n",
    "  \n",
    "  # 正向传播\n",
    "  outputs = model(inputs)\n",
    "  x = x+1\n",
    "  print(x)\n",
    "  print(outputs)"
   ]
  },
  {
   "cell_type": "code",
   "execution_count": null,
   "metadata": {},
   "outputs": [],
   "source": [
    "\n",
    "# 定义损失函数和优化器\n",
    "criterion = nn.MSELoss()\n",
    "optimizer = optim.SGD(model.parameters(), lr=0.001)\n",
    "\n",
    "num_epochs = 1000\n",
    "\n",
    "# 训练模型\n",
    "for epoch in range(num_epochs):\n",
    "    for batch in dataloader:\n",
    "        # 将数据移动到GPU上\n",
    "        inputs = batch.cuda()\n",
    "        \n",
    "        # 正向传播\n",
    "        outputs = model(inputs)\n",
    "        \n",
    "        # 计算损失\n",
    "        loss = criterion(outputs, labels)\n",
    "        \n",
    "        # 反向传播和优化\n",
    "        optimizer.zero_grad()\n",
    "        loss.backward()\n",
    "        optimizer.step()\n"
   ]
  },
  {
   "cell_type": "code",
   "execution_count": null,
   "metadata": {},
   "outputs": [],
   "source": []
  },
  {
   "cell_type": "markdown",
   "metadata": {},
   "source": [
    "torch.multiprocessing，可以给函数使用"
   ]
  },
  {
   "cell_type": "code",
   "execution_count": 8,
   "metadata": {},
   "outputs": [
    {
     "name": "stdout",
     "output_type": "stream",
     "text": [
      "Process 3: Result = tensor([ 3,  6,  9, 12, 15])Process 0: Result = tensor([0, 0, 0, 0, 0])Process 2: Result = tensor([ 2,  4,  6,  8, 10])Process 1: Result = tensor([1, 2, 3, 4, 5])\n",
      "\n",
      "\n",
      "\n"
     ]
    }
   ],
   "source": [
    "import torch\n",
    "import torch.nn as nn\n",
    "import torch.optim as optim\n",
    "import torch.multiprocessing as mp\n",
    "\n",
    "# 定义神经网络模型\n",
    "class MyModel(nn.Module):\n",
    "    def __init__(self):\n",
    "        super(MyModel, self).__init__()\n",
    "        # 定义你的模型结构\n",
    "        self.fc = nn.Linear(in_features=1, out_features=1)\n",
    "    \n",
    "    def forward(self, x):\n",
    "        # 定义前向传播逻辑\n",
    "        x = self.fc(x)\n",
    "        return x\n",
    "\n",
    "# 定义一个函数，用于在多进程中执行神经网络的计算\n",
    "def worker_function(index, input_data):\n",
    "    # 初始化模型\n",
    "    model = MyModel()\n",
    "    \n",
    "    # 定义损失函数和优化器\n",
    "    criterion = nn.MSELoss()\n",
    "    optimizer = optim.SGD(model.parameters(), lr=0.01)\n",
    "    \n",
    "    # 准备数据\n",
    "    inputs = torch.tensor([[input_data[index]]], dtype=torch.float32)\n",
    "    labels = torch.tensor([[input_data[index] * 2]], dtype=torch.float32)  # 举例：输出为输入的两倍\n",
    "    \n",
    "    # 训练模型\n",
    "    for _ in range(100):\n",
    "        optimizer.zero_grad()\n",
    "        outputs = model(inputs)\n",
    "        loss = criterion(outputs, labels)\n",
    "        loss.backward()\n",
    "        optimizer.step()\n",
    "    \n",
    "    # 返回输出结果\n",
    "    return outputs.item()\n",
    "\n",
    "if __name__ == '__main__':\n",
    "    # 准备数据\n",
    "    input_data = [1, 2, 3, 4, 5]\n",
    "    \n",
    "    # 创建进程池\n",
    "    num_processes = len(input_data)\n",
    "    pool = mp.Pool(processes=num_processes)\n",
    "    \n",
    "    # 在进程池中并行执行神经网络计算\n",
    "    results = [pool.apply_async(worker_function, args=(i, input_data)) for i in range(num_processes)]\n",
    "    \n",
    "    # 收集所有进程的结果\n",
    "    final_results = [result.get() for result in results]\n",
    "    \n",
    "    # 输出结果\n",
    "    print(\"Final Results:\", final_results)\n"
   ]
  },
  {
   "cell_type": "code",
   "execution_count": 39,
   "metadata": {},
   "outputs": [
    {
     "name": "stdout",
     "output_type": "stream",
     "text": [
      "input_tensor.shape=torch.Size([2, 3, 4, 3, 5, 5])\n",
      "[-1  4  3  5  5]\n",
      "[-1, 4, 3, 5, 5]\n",
      "原始形状： torch.Size([2, 3, 4, 3, 5, 5])\n",
      "重塑后的形状： torch.Size([6, 4, 3, 5, 5])\n",
      "tensor(0.1753)\n",
      "tensor(0.1753)\n",
      "tensor(0.1753)\n",
      "重塑后的形状： torch.Size([6, 4, 3, 5, 5])\n",
      "恢复后的形状： torch.Size([2, 3, 4, 3, 5, 5])\n"
     ]
    }
   ],
   "source": [
    "import torch\n",
    "import numpy as np\n",
    "\n",
    "# 假设你有一个输入张量 input_tensor\n",
    "# input_tensor 的形状为 [batch_size, history_idx, cam_id, channel, width, height]\n",
    "\n",
    "# 生成示例输入数据（假设batch_size=2，history_idx=3，cam_id=4，channel=3，width=5，height=5）\n",
    "batch_size = 2\n",
    "history_idx = 3\n",
    "cam_id = 4\n",
    "channel = 3\n",
    "width = 5\n",
    "height = 5\n",
    "\n",
    "input_tensor = torch.randn(batch_size, history_idx, cam_id, channel, width, height)\n",
    "\n",
    "print(f\"{input_tensor.shape=}\")\n",
    "\n",
    "# 将输入张量重塑成 [batch_size*history_idx, cam_id, channel, width, height]\n",
    "input_shape = input_tensor.shape\n",
    "target_shape = np.append(-1, input_shape[2:])\n",
    "print(f\"{target_shape}\")\n",
    "print([-1, cam_id, channel, width, height])\n",
    "\n",
    "reshaped_tensor = input_tensor.view(-1, cam_id, channel, width, height)\n",
    "reshaped_tensor1 = input_tensor.view(target_shape[0], target_shape[1], target_shape[2], target_shape[3], target_shape[4])\n",
    "\n",
    "# 恢复原来的形状\n",
    "output_tensor = reshaped_tensor.view(batch_size, history_idx, cam_id, channel, width, height)\n",
    "\n",
    "# 打印结果\n",
    "print(\"原始形状：\", input_tensor.shape)\n",
    "print(\"重塑后的形状：\", reshaped_tensor.shape)\n",
    "print(input_tensor[1,2,0,0,0,2])\n",
    "print(reshaped_tensor[5,0,0,0,2])\n",
    "print(output_tensor[1,2,0,0,0,2])\n",
    "print(\"重塑后的形状：\", reshaped_tensor1.shape)\n",
    "\n",
    "print(\"恢复后的形状：\", output_tensor.shape)\n"
   ]
  },
  {
   "cell_type": "code",
   "execution_count": null,
   "metadata": {},
   "outputs": [],
   "source": []
  },
  {
   "cell_type": "code",
   "execution_count": null,
   "metadata": {},
   "outputs": [],
   "source": []
  },
  {
   "cell_type": "code",
   "execution_count": 48,
   "metadata": {},
   "outputs": [
    {
     "name": "stdout",
     "output_type": "stream",
     "text": [
      "图片列表长度： 6\n",
      "查看列表shape:\n",
      "(30, 40, 3)\n",
      "(30, 40, 3)\n",
      "(30, 40, 3)\n",
      "(30, 40, 3)\n",
      "(30, 40, 3)\n",
      "(120, 160, 3)\n"
     ]
    }
   ],
   "source": [
    "import numpy as np\n",
    "import cv2 as cv\n",
    "\n",
    "image = np.ones([480,640,3])\n",
    "\n",
    "image_dict = dict()\n",
    "image_dict[\"wrist\"] = image\n",
    "\n",
    "image_list = []\n",
    "for idx in range(5):\n",
    "  image_list.append(image_dict)\n",
    "\n",
    "image2 = np.ones([120,160,3])\n",
    "image_dict2 = dict()\n",
    "image_dict2[\"wrist\"] = image2\n",
    "image_list.append(image_dict2)\n",
    "\n",
    "print(\"图片列表长度：\",len(image_list)) # 妈的大问题，如果一个list又形状不同的元素，就无法使用np.shape\n",
    "\n",
    "# 查看列表shape\n",
    "# print(\"查看列表shape:\")\n",
    "# for idx in range(len(image_list)):\n",
    "#   print(np.shape(image_list[idx][\"wrist\"]))\n",
    "\n",
    "\n",
    "# for idx in range(2):\n",
    "#   image_list[idx][\"wrist\"] = cv.resize(image_list[idx][\"wrist\"], (0, 0), fx=0.25, fy=0.25, interpolation=cv.INTER_LINEAR)\n",
    "\n",
    "for idx in range(2):\n",
    "  image_list[idx][\"wrist\"] = cv.resize(image_list[idx][\"wrist\"], (0, 0), fx=0.25, fy=0.25, interpolation=cv.INTER_LINEAR)\n",
    "\n",
    "# 查看列表shape\n",
    "print(\"查看列表shape:\")\n",
    "for idx in range(len(image_list)):\n",
    "  print(np.shape(image_list[idx][\"wrist\"]))\n",
    "  "
   ]
  },
  {
   "cell_type": "code",
   "execution_count": 49,
   "metadata": {},
   "outputs": [
    {
     "name": "stdout",
     "output_type": "stream",
     "text": [
      "6\n",
      "(120, 160, 3)\n",
      "(120, 160, 3)\n",
      "(480, 640, 3)\n",
      "(480, 640, 3)\n",
      "(480, 640, 3)\n",
      "(120, 160, 3)\n"
     ]
    }
   ],
   "source": [
    "import numpy as np\n",
    "import cv2 as cv\n",
    "\n",
    "image = np.ones([480,640,3])\n",
    "\n",
    "image_dict = dict() # 又是dict的对象指针问题，操你妈\n",
    "image_dict[\"wrist\"] = image\n",
    "\n",
    "image_list = []\n",
    "for idx in range(5):\n",
    "  image_list.append(image_dict.copy())  # 使用 .copy() 方法来避免列表中所有元素指向同一字典\n",
    "\n",
    "image2 = np.ones([120,160,3])\n",
    "image_dict2 = dict()\n",
    "image_dict2[\"wrist\"] = image2\n",
    "image_list.append(image_dict2)\n",
    "\n",
    "print(len(image_list))\n",
    "\n",
    "# 统一图像大小\n",
    "# for idx in range(len(image_list)):\n",
    "#     image_list[idx][\"wrist\"] = cv.resize(image_list[idx][\"wrist\"], (640, 480), interpolation=cv.INTER_LINEAR)\n",
    "\n",
    "for idx in range(2):\n",
    "  image_list[idx][\"wrist\"] = cv.resize(image_list[idx][\"wrist\"], (0, 0), fx=0.25, fy=0.25, interpolation=cv.INTER_LINEAR)\n",
    "\n",
    "for idx in range(len(image_list)):\n",
    "  print(np.shape(image_list[idx][\"wrist\"]))\n"
   ]
  },
  {
   "cell_type": "code",
   "execution_count": 7,
   "metadata": {},
   "outputs": [
    {
     "data": {
      "text/plain": [
       "array([18, 15, 17])"
      ]
     },
     "execution_count": 7,
     "metadata": {},
     "output_type": "execute_result"
    }
   ],
   "source": [
    "import numpy as np\n",
    "\n",
    "np.random.choice(range(15,20), size=3, replace=False)"
   ]
  },
  {
   "cell_type": "code",
   "execution_count": 19,
   "metadata": {},
   "outputs": [
    {
     "name": "stdout",
     "output_type": "stream",
     "text": [
      "10\n"
     ]
    }
   ],
   "source": [
    "x = [10, 5]\n",
    "# x = reversed(x)\n",
    "\n",
    "# print(x[-1])\n",
    "\n",
    "y = 12\n",
    "\n",
    "for i in x:\n",
    "  \n",
    "  if y >= i:\n",
    "    print(i)\n",
    "    break\n",
    "  \n",
    "  elif y < i and i != x[-1]:\n",
    "    continue\n",
    "  \n",
    "  print(i)"
   ]
  },
  {
   "cell_type": "code",
   "execution_count": 23,
   "metadata": {},
   "outputs": [
    {
     "name": "stdout",
     "output_type": "stream",
     "text": [
      "10\n",
      "9\n",
      "8\n",
      "7\n",
      "6\n",
      "5\n",
      "4\n",
      "3\n",
      "2\n",
      "1\n"
     ]
    }
   ],
   "source": [
    "for i in range(10, 0, -1):\n",
    "  print(i)"
   ]
  },
  {
   "cell_type": "code",
   "execution_count": null,
   "metadata": {},
   "outputs": [],
   "source": []
  }
 ],
 "metadata": {
  "kernelspec": {
   "display_name": "Python 3",
   "language": "python",
   "name": "python3"
  },
  "language_info": {
   "codemirror_mode": {
    "name": "ipython",
    "version": 3
   },
   "file_extension": ".py",
   "mimetype": "text/x-python",
   "name": "python",
   "nbconvert_exporter": "python",
   "pygments_lexer": "ipython3",
   "version": "3.8.10"
  }
 },
 "nbformat": 4,
 "nbformat_minor": 2
}
