{
 "cells": [
  {
   "cell_type": "code",
   "execution_count": null,
   "metadata": {},
   "outputs": [],
   "source": [
    "# 提取位置编码\n",
    "\n",
    "import numpy as np\n",
    "\n",
    "action = [6.426e-1, -2.180e-1, 9.110e-2, -6.169e-5, 9.850e-1, 4.307e-4, 1.727e-1, 1.000e+0]\n",
    "target_qpos_list = []\n",
    "target_qpos_list.append(action)\n",
    "target_qpos_list.append(action)\n",
    "target_qpos_list.append(action)\n",
    "target_qpos_list.append(action)\n",
    "\n",
    "print(np.shape(target_qpos_list))\n",
    "\n",
    "position = target_qpos_list[3][:7]\n",
    "\n",
    "# 在这个位置周围随机生成一个点\n",
    "print(position)\n",
    "\n",
    "# 根据elem的数量级决定 随机加减数量\n",
    "\n",
    "# 又机器人模型决定单个步骤是否完成\n",
    "\n",
    "for i in range(10):\n",
    "  position = [elem *(1 + (np.random.randint(100) - 50)/1000) for elem in position]\n",
    "  print(position)\n",
    "\n"
   ]
  },
  {
   "cell_type": "code",
   "execution_count": null,
   "metadata": {},
   "outputs": [],
   "source": [
    "# 逻辑比较\n",
    "a = True\n",
    "b = True\n",
    "c = False\n",
    "\n",
    "if a and (b or c):\n",
    "  print(\"success\")\n",
    "else:\n",
    "  print(\"fail\")"
   ]
  },
  {
   "cell_type": "code",
   "execution_count": null,
   "metadata": {},
   "outputs": [],
   "source": [
    "print(10%5)"
   ]
  },
  {
   "cell_type": "code",
   "execution_count": 2,
   "metadata": {},
   "outputs": [
    {
     "name": "stdout",
     "output_type": "stream",
     "text": [
      "(5, 4, 3)\n",
      "(5, 4, 3, 2)\n",
      "(5, 4, 3, 3)\n",
      "(5, 4, 3, 4)\n"
     ]
    }
   ],
   "source": [
    "import numpy as np\n",
    "aaa = np.array([[[1,2,3],[1,2,3],[1,2,3],[1,2,3]],[[1,2,3],[1,2,3],[1,2,3],[1,2,3]],[[1,2,3],[1,2,3],[1,2,3],[1,2,3]],[[1,2,3],[1,2,3],[1,2,3],[1,2,3]],[[1,2,3],[1,2,3],[1,2,3],[1,2,3]]])\n",
    "\n",
    "\n",
    "# bbb = np.expand_dims(aaa,3).repeat(3,axis=3)\n",
    "\n",
    "# 三种维度的距离？？统一维度有一点浪费存储空间\n",
    "# bbb = np.expand_dims(aaa,3)\n",
    "\n",
    "aaa = aaa/30\n",
    "print(np.shape(aaa))\n",
    "\n",
    "bbb1 = np.clip((aaa * 255. * 1.0), 0, 255).astype(np.uint8)\n",
    "bbb2 = np.clip((aaa * 255. * 5.0), 0, 255).astype(np.uint8)\n",
    "bbb3 = np.clip((aaa * 255. * 10.0 ), 0, 255).astype(np.uint8)\n",
    "\n",
    "ccc = np.stack((bbb1,bbb2),axis=3)\n",
    "print(np.shape(ccc))\n",
    "bbb4 = np.expand_dims(bbb3,axis=3)\n",
    "ccc = np.append(ccc,bbb4,axis=3)\n",
    "print(np.shape(ccc))\n",
    "ddd = np.append(ccc,bbb4,axis=3)\n",
    "print(np.shape(ddd))\n",
    "# print(ccc)\n",
    "# bbb = np.append(aaa,aaa)\n",
    "\n",
    "# print(np.shape(bbb))\n",
    "\n",
    "# print(ccc)\n"
   ]
  },
  {
   "cell_type": "code",
   "execution_count": null,
   "metadata": {},
   "outputs": [],
   "source": [
    "# 三原色 降为压缩\n",
    "import numpy as np\n",
    "\n",
    "rgb = np.array([[[1,2,3],[1,2,3],[1,2,3],[1,2,3]],[[1,2,3],[1,2,3],[1,2,3],[1,2,3]],[[1,2,3],[1,2,3],[1,2,3],[1,2,3]],[[1,2,3],[1,2,3],[1,2,3],[1,2,3]],[[1,2,3],[1,2,3],[1,2,3],[1,2,3]]])\n",
    "\n",
    "print(np.shape(rgb))\n",
    "\n",
    "# red = rgb[:,:,0]\n",
    "\n",
    "# color = np.sum(rgb,2)\n",
    "# color = [rgb[0]+rgb[1], rgb[1]+rgb[2]]\n",
    "\n",
    "print(np.shape(red))\n",
    "print(red)\n",
    "\n"
   ]
  },
  {
   "cell_type": "code",
   "execution_count": 4,
   "metadata": {},
   "outputs": [
    {
     "name": "stdout",
     "output_type": "stream",
     "text": [
      "5\n"
     ]
    }
   ],
   "source": [
    "ext = \"oepn,steps(5)\"\n",
    "if len(ext) > 0 and 'steps(' in ext:\n",
    "  start_of_bracket = ext.index('steps(') + 6\n",
    "  steps_len = ext[start_of_bracket] \n",
    "  print(steps_len)"
   ]
  },
  {
   "cell_type": "code",
   "execution_count": 7,
   "metadata": {},
   "outputs": [
    {
     "name": "stdout",
     "output_type": "stream",
     "text": [
      "0\n",
      "1\n",
      "2\n",
      "3\n",
      "4\n",
      "5\n",
      "6\n",
      "7\n",
      "8\n",
      "9\n"
     ]
    }
   ],
   "source": [
    "num_epoch = 10\n",
    "for i in range(0, num_epoch):\n",
    "  print(i)"
   ]
  },
  {
   "cell_type": "code",
   "execution_count": 22,
   "metadata": {},
   "outputs": [
    {
     "name": "stdout",
     "output_type": "stream",
     "text": [
      "3\n"
     ]
    }
   ],
   "source": [
    "ext = \"close_gripper();ignore_collisions;steps(3);close_gripper();\"\n",
    "if len(ext) > 0 and 'steps(' in ext:\n",
    "  left = ext.index('steps(')+6\n",
    "  right = ext[left:].index(')')\n",
    "  \n",
    "  print(ext[left:left+right])\n",
    "  "
   ]
  },
  {
   "cell_type": "code",
   "execution_count": 2,
   "metadata": {},
   "outputs": [
    {
     "name": "stdout",
     "output_type": "stream",
     "text": [
      "['wrist']\n"
     ]
    }
   ],
   "source": [
    "cam_names = [['wrist'], ['wrist', 'head']] \n",
    "print(cam_names[0])"
   ]
  },
  {
   "cell_type": "code",
   "execution_count": 7,
   "metadata": {},
   "outputs": [
    {
     "name": "stdout",
     "output_type": "stream",
     "text": [
      "{'num_epochs': 222, 'policy': {'num_epochs': 1112}}\n"
     ]
    }
   ],
   "source": [
    "policy = {\n",
    "        'num_epochs': 111\n",
    "    }\n",
    "config = {\n",
    "        'num_epochs': 111,\n",
    "        'policy': policy\n",
    "    }\n",
    "config['num_epochs']=222\n",
    "config['policy']['num_epochs']=1112\n",
    "print(config)"
   ]
  },
  {
   "cell_type": "code",
   "execution_count": 2,
   "metadata": {},
   "outputs": [
    {
     "name": "stdout",
     "output_type": "stream",
     "text": [
      "2\n"
     ]
    }
   ],
   "source": [
    "task_steps = ['sorting_program21', 'sorting_program22']\n",
    "print(len(task_steps))"
   ]
  },
  {
   "cell_type": "code",
   "execution_count": 2,
   "metadata": {},
   "outputs": [
    {
     "name": "stdout",
     "output_type": "stream",
     "text": [
      "x=1\n",
      "x=2\n",
      "1\n"
     ]
    }
   ],
   "source": [
    "x = 1 \n",
    "\n",
    "print(f'x={x}')\n",
    "\n",
    "def function(x):\n",
    "  x = x + 1\n",
    "  print(f'x={x}')\n",
    "\n",
    "function(x)\n",
    "print(x)"
   ]
  },
  {
   "cell_type": "code",
   "execution_count": null,
   "metadata": {},
   "outputs": [],
   "source": []
  }
 ],
 "metadata": {
  "kernelspec": {
   "display_name": "Python 3",
   "language": "python",
   "name": "python3"
  },
  "language_info": {
   "codemirror_mode": {
    "name": "ipython",
    "version": 3
   },
   "file_extension": ".py",
   "mimetype": "text/x-python",
   "name": "python",
   "nbconvert_exporter": "python",
   "pygments_lexer": "ipython3",
   "version": "3.8.10"
  }
 },
 "nbformat": 4,
 "nbformat_minor": 2
}
