{
 "cells": [
  {
   "cell_type": "code",
   "execution_count": null,
   "metadata": {},
   "outputs": [],
   "source": [
    "# 提取位置编码\n",
    "\n",
    "import numpy as np\n",
    "\n",
    "action = [6.426e-1, -2.180e-1, 9.110e-2, -6.169e-5, 9.850e-1, 4.307e-4, 1.727e-1, 1.000e+0]\n",
    "target_qpos_list = []\n",
    "target_qpos_list.append(action)\n",
    "target_qpos_list.append(action)\n",
    "target_qpos_list.append(action)\n",
    "target_qpos_list.append(action)\n",
    "\n",
    "print(np.shape(target_qpos_list))\n",
    "\n",
    "position = target_qpos_list[3][:7]\n",
    "\n",
    "# 在这个位置周围随机生成一个点\n",
    "print(position)\n",
    "\n",
    "# 根据elem的数量级决定 随机加减数量\n",
    "\n",
    "# 又机器人模型决定单个步骤是否完成\n",
    "\n",
    "for i in range(10):\n",
    "  position = [elem *(1 + (np.random.randint(100) - 50)/1000) for elem in position]\n",
    "  print(position)\n",
    "\n"
   ]
  },
  {
   "cell_type": "code",
   "execution_count": null,
   "metadata": {},
   "outputs": [],
   "source": [
    "# 逻辑比较\n",
    "a = True\n",
    "b = True\n",
    "c = False\n",
    "\n",
    "if a and (b or c):\n",
    "  print(\"success\")\n",
    "else:\n",
    "  print(\"fail\")"
   ]
  },
  {
   "cell_type": "code",
   "execution_count": null,
   "metadata": {},
   "outputs": [],
   "source": [
    "print(10%5)"
   ]
  },
  {
   "cell_type": "code",
   "execution_count": 2,
   "metadata": {},
   "outputs": [
    {
     "name": "stdout",
     "output_type": "stream",
     "text": [
      "(5, 4, 3)\n",
      "(5, 4, 3, 2)\n",
      "(5, 4, 3, 3)\n",
      "(5, 4, 3, 4)\n"
     ]
    }
   ],
   "source": [
    "import numpy as np\n",
    "aaa = np.array([[[1,2,3],[1,2,3],[1,2,3],[1,2,3]],[[1,2,3],[1,2,3],[1,2,3],[1,2,3]],[[1,2,3],[1,2,3],[1,2,3],[1,2,3]],[[1,2,3],[1,2,3],[1,2,3],[1,2,3]],[[1,2,3],[1,2,3],[1,2,3],[1,2,3]]])\n",
    "\n",
    "\n",
    "# bbb = np.expand_dims(aaa,3).repeat(3,axis=3)\n",
    "\n",
    "# 三种维度的距离？？统一维度有一点浪费存储空间\n",
    "# bbb = np.expand_dims(aaa,3)\n",
    "\n",
    "aaa = aaa/30\n",
    "print(np.shape(aaa))\n",
    "\n",
    "bbb1 = np.clip((aaa * 255. * 1.0), 0, 255).astype(np.uint8)\n",
    "bbb2 = np.clip((aaa * 255. * 5.0), 0, 255).astype(np.uint8)\n",
    "bbb3 = np.clip((aaa * 255. * 10.0 ), 0, 255).astype(np.uint8)\n",
    "\n",
    "ccc = np.stack((bbb1,bbb2),axis=3)\n",
    "print(np.shape(ccc))\n",
    "bbb4 = np.expand_dims(bbb3,axis=3)\n",
    "ccc = np.append(ccc,bbb4,axis=3)\n",
    "print(np.shape(ccc))\n",
    "ddd = np.append(ccc,bbb4,axis=3)\n",
    "print(np.shape(ddd))\n",
    "# print(ccc)\n",
    "# bbb = np.append(aaa,aaa)\n",
    "\n",
    "# print(np.shape(bbb))\n",
    "\n",
    "# print(ccc)\n"
   ]
  },
  {
   "cell_type": "code",
   "execution_count": null,
   "metadata": {},
   "outputs": [],
   "source": [
    "# 三原色 降为压缩\n",
    "import numpy as np\n",
    "\n",
    "rgb = np.array([[[1,2,3],[1,2,3],[1,2,3],[1,2,3]],[[1,2,3],[1,2,3],[1,2,3],[1,2,3]],[[1,2,3],[1,2,3],[1,2,3],[1,2,3]],[[1,2,3],[1,2,3],[1,2,3],[1,2,3]],[[1,2,3],[1,2,3],[1,2,3],[1,2,3]]])\n",
    "\n",
    "print(np.shape(rgb))\n",
    "\n",
    "# red = rgb[:,:,0]\n",
    "\n",
    "# color = np.sum(rgb,2)\n",
    "# color = [rgb[0]+rgb[1], rgb[1]+rgb[2]]\n",
    "\n",
    "print(np.shape(red))\n",
    "print(red)\n",
    "\n"
   ]
  },
  {
   "cell_type": "code",
   "execution_count": 4,
   "metadata": {},
   "outputs": [
    {
     "name": "stdout",
     "output_type": "stream",
     "text": [
      "5\n"
     ]
    }
   ],
   "source": [
    "ext = \"oepn,steps(5)\"\n",
    "if len(ext) > 0 and 'steps(' in ext:\n",
    "  start_of_bracket = ext.index('steps(') + 6\n",
    "  steps_len = ext[start_of_bracket] \n",
    "  print(steps_len)"
   ]
  },
  {
   "cell_type": "code",
   "execution_count": 7,
   "metadata": {},
   "outputs": [
    {
     "name": "stdout",
     "output_type": "stream",
     "text": [
      "0\n",
      "1\n",
      "2\n",
      "3\n",
      "4\n",
      "5\n",
      "6\n",
      "7\n",
      "8\n",
      "9\n"
     ]
    }
   ],
   "source": [
    "num_epoch = 10\n",
    "for i in range(0, num_epoch):\n",
    "  print(i)"
   ]
  },
  {
   "cell_type": "code",
   "execution_count": 22,
   "metadata": {},
   "outputs": [
    {
     "name": "stdout",
     "output_type": "stream",
     "text": [
      "3\n"
     ]
    }
   ],
   "source": [
    "ext = \"close_gripper();ignore_collisions;steps(3);close_gripper();\"\n",
    "if len(ext) > 0 and 'steps(' in ext:\n",
    "  left = ext.index('steps(')+6\n",
    "  right = ext[left:].index(')')\n",
    "  \n",
    "  print(ext[left:left+right])\n",
    "  "
   ]
  },
  {
   "cell_type": "code",
   "execution_count": 2,
   "metadata": {},
   "outputs": [
    {
     "name": "stdout",
     "output_type": "stream",
     "text": [
      "['wrist']\n"
     ]
    }
   ],
   "source": [
    "cam_names = [['wrist'], ['wrist', 'head']] \n",
    "print(cam_names[0])"
   ]
  },
  {
   "cell_type": "code",
   "execution_count": 7,
   "metadata": {},
   "outputs": [
    {
     "name": "stdout",
     "output_type": "stream",
     "text": [
      "{'num_epochs': 222, 'policy': {'num_epochs': 1112}}\n"
     ]
    }
   ],
   "source": [
    "policy = {\n",
    "        'num_epochs': 111\n",
    "    }\n",
    "config = {\n",
    "        'num_epochs': 111,\n",
    "        'policy': policy\n",
    "    }\n",
    "config['num_epochs']=222\n",
    "config['policy']['num_epochs']=1112\n",
    "print(config)"
   ]
  },
  {
   "cell_type": "code",
   "execution_count": 2,
   "metadata": {},
   "outputs": [
    {
     "name": "stdout",
     "output_type": "stream",
     "text": [
      "2\n"
     ]
    }
   ],
   "source": [
    "task_steps = ['sorting_program21', 'sorting_program22']\n",
    "print(len(task_steps))"
   ]
  },
  {
   "cell_type": "code",
   "execution_count": 2,
   "metadata": {},
   "outputs": [
    {
     "name": "stdout",
     "output_type": "stream",
     "text": [
      "x=1\n",
      "x=2\n",
      "1\n"
     ]
    }
   ],
   "source": [
    "x = 1 \n",
    "\n",
    "print(f'x={x}')\n",
    "\n",
    "def function(x):\n",
    "  x = x + 1\n",
    "  print(f'x={x}')\n",
    "\n",
    "function(x)\n",
    "print(x)"
   ]
  },
  {
   "cell_type": "code",
   "execution_count": 7,
   "metadata": {},
   "outputs": [
    {
     "name": "stdout",
     "output_type": "stream",
     "text": [
      "2\n",
      "{'the 1': 1}\n",
      "4\n",
      "{'the 1': 1, 'the 3': 3}\n"
     ]
    }
   ],
   "source": [
    "import numpy as np\n",
    "conmmand_len = 2\n",
    "dict = {}\n",
    "\n",
    "for i in range(1, 2*conmmand_len, 2):\n",
    "  print(i+1)\n",
    "  dict[f\"the {i}\"] = i\n",
    "  print(dict)\n",
    "  \n",
    "  # print(np.random.randint(3))"
   ]
  },
  {
   "cell_type": "code",
   "execution_count": 19,
   "metadata": {},
   "outputs": [
    {
     "name": "stdout",
     "output_type": "stream",
     "text": [
      "<class 'int'> 1\n",
      "<class 'int'> 12\n",
      "<class 'int'> 123\n"
     ]
    }
   ],
   "source": [
    "# import string\n",
    "\n",
    "ssss = \"\"\n",
    "num_len = 4\n",
    "# ssss = [(ssss + str(i) ) for i in range(1, num_len)]\n",
    "# print(ssss)\n",
    "\n",
    "for i in range(1,num_len):\n",
    "  ssss = ssss + str(i)\n",
    "  \n",
    "  print(type(int(ssss)),ssss)\n",
    "  \n"
   ]
  },
  {
   "cell_type": "code",
   "execution_count": 15,
   "metadata": {},
   "outputs": [
    {
     "name": "stdout",
     "output_type": "stream",
     "text": [
      "put the red target to the red box\n"
     ]
    }
   ],
   "source": [
    "import os\n",
    "\n",
    "# os.environ['QT_QPA_PLATFORM_PLUGIN_PATH'] = \"/home/boxjod/Gym/RLBench/CoppeliaSim_Edu_V4_1_0_Ubuntu20_04\"\n",
    "# os.environ['LD_LIBRARY_PATH'] = \"$COPPELIASIM_ROOT:$LD_LIBRARY_PATH\"\n",
    "# os.environ['QT_QPA_PLATFORM_PLUGIN_PATH'] = \"$COPPELIASIM_ROOT\"\n",
    "\n",
    "# x = 99\n",
    "\n",
    "# print(x.isalnum())\n",
    "\n",
    "color_name = 'red'\n",
    "\n",
    "print('put the %s target to the %s box' % (color_name ,color_name) )\n",
    "\n"
   ]
  },
  {
   "cell_type": "code",
   "execution_count": null,
   "metadata": {},
   "outputs": [],
   "source": []
  },
  {
   "cell_type": "code",
   "execution_count": null,
   "metadata": {},
   "outputs": [],
   "source": []
  },
  {
   "cell_type": "code",
   "execution_count": 126,
   "metadata": {},
   "outputs": [
    {
     "name": "stdout",
     "output_type": "stream",
     "text": [
      "[[0. 1. 2. 3. 4. 5. 6. 7.]\n",
      " [0. 0. 0. 0. 0. 0. 0. 0.]\n",
      " [0. 0. 0. 0. 0. 0. 0. 0.]\n",
      " [0. 0. 0. 0. 0. 0. 0. 0.]\n",
      " [0. 0. 0. 0. 0. 0. 0. 0.]\n",
      " [0. 0. 0. 0. 0. 0. 0. 0.]\n",
      " [0. 0. 0. 0. 0. 0. 0. 0.]\n",
      " [0. 0. 0. 0. 0. 0. 0. 0.]\n",
      " [0. 0. 0. 0. 0. 0. 0. 0.]\n",
      " [0. 0. 0. 0. 0. 0. 0. 0.]]\n"
     ]
    }
   ],
   "source": [
    "# 历史记录当中有空的，这样处理\n",
    "import numpy as np\n",
    "num_queries = 10\n",
    "origin_action = np.array([[0,1,2,3,4,5,6,7]])\n",
    "\n",
    "original_action_shape = origin_action.shape #(32,8)  # np.zeros((32,8))\n",
    "action_len = original_action_shape[0]\n",
    "\n",
    "qpos_history = np.zeros((num_queries,) + original_action_shape[1:], dtype=np.float32)\n",
    "\n",
    "qpos_history[:action_len] = origin_action\n",
    "print(qpos_history)\n",
    "index_refresh = 0"
   ]
  },
  {
   "cell_type": "code",
   "execution_count": 143,
   "metadata": {},
   "outputs": [
    {
     "name": "stdout",
     "output_type": "stream",
     "text": [
      "7\n",
      "[[0. 2. 2. 2. 2. 2. 2. 2.]\n",
      " [1. 2. 2. 2. 2. 2. 2. 2.]\n",
      " [2. 2. 2. 2. 2. 2. 2. 2.]\n",
      " [3. 2. 2. 2. 2. 2. 2. 2.]\n",
      " [4. 2. 2. 2. 2. 2. 2. 2.]\n",
      " [5. 2. 2. 2. 2. 2. 2. 2.]\n",
      " [6. 2. 2. 2. 2. 2. 2. 2.]\n",
      " [7. 2. 2. 2. 2. 2. 2. 2.]\n",
      " [8. 2. 2. 2. 2. 2. 2. 2.]\n",
      " [9. 2. 2. 2. 2. 2. 2. 2.]]\n"
     ]
    }
   ],
   "source": [
    "# 如果超过了记忆区了如何处理？\n",
    "index_refresh = (index_refresh + 1) % 10\n",
    "action = np.array([index_refresh,2,2,2,2,2,2,2])\n",
    "print(index_refresh)\n",
    "qpos_history[index_refresh] = action\n",
    "\n",
    "print(qpos_history)\n"
   ]
  },
  {
   "cell_type": "code",
   "execution_count": 33,
   "metadata": {},
   "outputs": [
    {
     "name": "stdout",
     "output_type": "stream",
     "text": [
      "[0. 0. 0. 0. 0. 0. 0. 0.]\n"
     ]
    }
   ],
   "source": [
    "print(np.zeros(8))"
   ]
  },
  {
   "cell_type": "code",
   "execution_count": null,
   "metadata": {},
   "outputs": [],
   "source": []
  }
 ],
 "metadata": {
  "kernelspec": {
   "display_name": "Python 3",
   "language": "python",
   "name": "python3"
  },
  "language_info": {
   "codemirror_mode": {
    "name": "ipython",
    "version": 3
   },
   "file_extension": ".py",
   "mimetype": "text/x-python",
   "name": "python",
   "nbconvert_exporter": "python",
   "pygments_lexer": "ipython3",
   "version": "3.8.10"
  }
 },
 "nbformat": 4,
 "nbformat_minor": 2
}
